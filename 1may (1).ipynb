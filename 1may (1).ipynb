{
 "cells": [
  {
   "cell_type": "code",
   "execution_count": 1,
   "id": "b37614e4-141f-48e9-9c4f-cbeeaae6fe9d",
   "metadata": {},
   "outputs": [],
   "source": [
    "#1A Confusion matrix is an N x N matrix used for evaluating the performance of a classification model, where N is the total number of target classes. The matrix compares the actual target values with those predicted by the machine learning model.\n",
    "## Confusion matrix is an N x N matrix used for evaluating the performance of a classification model, where N is the total number of target classes. The matrix compares the actual target values with those predicted by the machine learning model.\n"
   ]
  },
  {
   "cell_type": "code",
   "execution_count": 6,
   "id": "c3a90149-6584-476c-aa23-f1989efa9dfc",
   "metadata": {},
   "outputs": [],
   "source": [
    "#2A confusion matrix is a performance evaluation tool in machine learning, representing the accuracy of a classification model. It displays the number of true positives, true negatives, false positives, and false negatives.\n",
    "# confusion matrix is a performance evaluation tool in machine learning, representing the accuracy of a classification model. It displays the number of true positives, true negatives, false positives, and false negatives."
   ]
  },
  {
   "cell_type": "code",
   "execution_count": 7,
   "id": "e2dc2d85-2b9c-4b6d-a082-e49e7d19f5bb",
   "metadata": {},
   "outputs": [],
   "source": [
    "#3 Extrinsic evaluation is the best way to evaluate the performance of a language model by embedding it in an application and measuring how much the application improves. It is an end-to-end evaluation where we can understand if a particular improvement in a component is really going to help the task at hand.\n",
    "# Extrinsic evaluation is the best way to evaluate the performance of a language model by embedding it in an application and measuring how much the application improves. It is an end-to-end evaluation where we can understand if a particular improvement in a component is really going to help the task at hand.\n"
   ]
  },
  {
   "cell_type": "code",
   "execution_count": 8,
   "id": "3cc37614-0eff-4fea-bd40-72221a5565b8",
   "metadata": {},
   "outputs": [],
   "source": [
    "\n",
    "#4In an intrinsic evaluation, quality of NLP systems outputs is evaluated against pre-determined ground truth (reference text) whereas an extrinsic evaluation is aimed at evaluating systems outputs based on their impact on the performance of other NLP systems#4In an intrinsic evaluation, quality of NLP systems outputs is evaluated against pre-determined ground truth (reference text) whereas an extrinsic evaluation is aimed at evaluating systems outputs based on their impact on the performance of other NLP systems\n",
    "In an intrinsic evaluation, quality of NLP systems outputs is evaluated against pre-determined ground truth (reference text) whereas an extrinsic evaluation is aimed at evaluating systems outputs based on their impact on the performance of other NLP systems"
   ]
  },
  {
   "cell_type": "code",
   "execution_count": 3,
   "id": "b0dfbb8c-0085-402a-bb2b-04da3b3c4247",
   "metadata": {},
   "outputs": [],
   "source": [
    "#5 A confusion matrix reveals a model's accuracy by contrasting predicted and actual classifications. It quantifies true and false positives, and negatives, guiding metrics like precision (correct positive predictions), recall (accurate detection of actual positives), and F1 score (precision-recall balance).13\n",
    "#5 A confusion matrix reveals a model's accuracy by contrasting predicted and actual classifications. It quantifies true and false positives, and negatives, guiding metrics like precision (correct positive predictions), recall (accurate detection of actual positives), and F1 score (precision-recall balance).13"
   ]
  },
  {
   "cell_type": "code",
   "execution_count": 4,
   "id": "0dff8955-2858-4785-ac02-f2fe413e677c",
   "metadata": {},
   "outputs": [
    {
     "data": {
      "text/plain": [
       "'Clustering - Jaccard similarity index, Rand Index, Purity, Silhouette measure, Sum of squared errors, etc.\\nAssociation rule mining – Lift, Confidence.\\nTime series analysis – Root mean square error, mean absolute error, mean absolute percentage error, etc.\\nAutoencoders - Reconstruction errors.'"
      ]
     },
     "execution_count": 4,
     "metadata": {},
     "output_type": "execute_result"
    }
   ],
   "source": [
    "#6 \n",
    "'''Clustering - Jaccard similarity index, Rand Index, Purity, Silhouette measure, Sum of squared errors, etc.\n",
    "Association rule mining – Lift, Confidence.\n",
    "Time series analysis – Root mean square error, mean absolute error, mean absolute percentage error, etc.\n",
    "Autoencoders - Reconstruction errors.'''\n",
    "\n",
    "'''Clustering - Jaccard similarity index, Rand Index, Purity, Silhouette measure, Sum of squared errors, etc.\n",
    "Association rule mining – Lift, Confidence.\n",
    "Time series analysis – Root mean square error, mean absolute error, mean absolute percentage error, etc.\n",
    "Autoencoders - Reconstruction errors.'''"
   ]
  },
  {
   "cell_type": "code",
   "execution_count": 5,
   "id": "29245218-8fd6-460f-b720-f6de86e3c6c3",
   "metadata": {},
   "outputs": [
    {
     "data": {
      "text/plain": [
       "'Limitation 1: Imbalanced Classes. Many categorization issues in the actual world have unequal distributions of the classes. ...\\nLimitation 2: Misclassification Costs. ...\\nLimitation 3: Probability Predictions. ...\\nLimitation 4: Ambiguity.'"
      ]
     },
     "execution_count": 5,
     "metadata": {},
     "output_type": "execute_result"
    }
   ],
   "source": [
    "#7 \n",
    "'''Limitation 1: Imbalanced Classes. Many categorization issues in the actual world have unequal distributions of the classes. ...\n",
    "Limitation 2: Misclassification Costs. ...\n",
    "Limitation 3: Probability Predictions. ...\n",
    "Limitation 4: Ambiguity.''' \n",
    "'''Limitation 1: Imbalanced Classes. Many categorization issues in the actual world have unequal distributions of the classes. ...\n",
    "Limitation 2: Misclassification Costs. ...\n",
    "Limitation 3: Probability Predictions. ...\n",
    "Limitation 4: Ambiguity.'''"
   ]
  },
  {
   "cell_type": "code",
   "execution_count": null,
   "id": "6412568f-97c6-483b-94cc-5d4f1001e1a2",
   "metadata": {},
   "outputs": [],
   "source": []
  }
 ],
 "metadata": {
  "kernelspec": {
   "display_name": "Python 3 (ipykernel)",
   "language": "python",
   "name": "python3"
  },
  "language_info": {
   "codemirror_mode": {
    "name": "ipython",
    "version": 3
   },
   "file_extension": ".py",
   "mimetype": "text/x-python",
   "name": "python",
   "nbconvert_exporter": "python",
   "pygments_lexer": "ipython3",
   "version": "3.10.8"
  }
 },
 "nbformat": 4,
 "nbformat_minor": 5
}
